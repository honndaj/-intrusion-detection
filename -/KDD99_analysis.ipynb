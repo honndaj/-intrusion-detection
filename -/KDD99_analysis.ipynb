{
 "cells": [
  {
   "cell_type": "code",
   "execution_count": 1,
   "metadata": {
    "collapsed": true
   },
   "outputs": [],
   "source": [
    "import os\n",
    "import time\n",
    "\n",
    "import torch\n",
    "from torch import nn\n",
    "from torchvision.transforms import ToTensor\n",
    "from torch.utils.data import DataLoader\n",
    "from torch.utils.data import Dataset\n",
    "from torch.nn import functional as F\n",
    "from datetime import datetime\n",
    "\n",
    "import sklearn\n",
    "import pandas as pd\n",
    "import numpy as np\n",
    "import matplotlib.pyplot as plt\n",
    "\n",
    "from sklearn.model_selection import train_test_split\n",
    "from sklearn.preprocessing import MinMaxScaler\n",
    "from sklearn.preprocessing import LabelEncoder"
   ]
  },
  {
   "cell_type": "code",
   "execution_count": 2,
   "metadata": {
    "collapsed": false
   },
   "outputs": [],
   "source": [
    "df = pd.read_csv('../kdd99/kddcup.data_10_percent_corrected')"
   ]
  },
  {
   "cell_type": "code",
   "execution_count": 3,
   "metadata": {
    "collapsed": false
   },
   "outputs": [],
   "source": [
    "df.columns = [\n",
    "    'duration',\n",
    "    'protocol_type',\n",
    "    'service',\n",
    "    'flag',\n",
    "    'src_bytes',\n",
    "    'dst_bytes',\n",
    "    'land',\n",
    "    'wrong_fragment',\n",
    "    'urgent',\n",
    "    'hot',\n",
    "    'num_failed_logins',\n",
    "    'logged_in',\n",
    "    'num_compromised',\n",
    "    'root_shell',\n",
    "    'su_attempted',\n",
    "    'num_root',\n",
    "    'num_file_creations',\n",
    "    'num_shells',\n",
    "    'num_access_files',\n",
    "    'num_outbound_cmds',\n",
    "    'is_host_login',\n",
    "    'is_guest_login',\n",
    "    'count',\n",
    "    'srv_count',\n",
    "    'serror_rate',\n",
    "    'srv_serror_rate',\n",
    "    'rerror_rate',\n",
    "    'srv_rerror_rate',\n",
    "    'same_srv_rate',\n",
    "    'diff_srv_rate',\n",
    "    'srv_diff_host_rate',\n",
    "    'dst_host_count',\n",
    "    'dst_host_srv_count',\n",
    "    'dst_host_same_srv_rate',\n",
    "    'dst_host_diff_srv_rate',\n",
    "    'dst_host_same_src_port_rate',\n",
    "    'dst_host_srv_diff_host_rate',\n",
    "    'dst_host_serror_rate',\n",
    "    'dst_host_srv_serror_rate',\n",
    "    'dst_host_rerror_rate',\n",
    "    'dst_host_srv_rerror_rate',\n",
    "    'label'\n",
    "]"
   ]
  },
  {
   "cell_type": "code",
   "execution_count": 4,
   "metadata": {
    "collapsed": false
   },
   "outputs": [],
   "source": [
    "# 数值列\n",
    "number_col = df.select_dtypes(include=['number']).columns\n",
    "# 分类变量\n",
    "cat_col = df.columns.difference(number_col)\n",
    "cat_col = cat_col.drop('label')\n",
    "# 将分类变量筛选出来\n",
    "df_cat = df[cat_col].copy()"
   ]
  },
  {
   "cell_type": "code",
   "execution_count": 5,
   "metadata": {
    "collapsed": false
   },
   "outputs": [],
   "source": [
    "# one-hot编码\n",
    "one_hot_data = pd.get_dummies(df_cat, columns=cat_col)\n",
    "\n",
    "# 将原数据的分类变量去掉\n",
    "one_hot_df = pd.concat([df, one_hot_data],axis=1)\n",
    "one_hot_df.drop(columns=cat_col, inplace=True)"
   ]
  },
  {
   "cell_type": "code",
   "execution_count": 6,
   "metadata": {
    "collapsed": false
   },
   "outputs": [],
   "source": [
    "minmax_scale = MinMaxScaler(feature_range=(0, 1))\n",
    "\n",
    "def normalization(df,col):\n",
    "    for i in col:\n",
    "        arr = df[i]\n",
    "        arr = np.array(arr)\n",
    "        df[i] = minmax_scale.fit_transform(arr.reshape(len(arr),1))\n",
    "    return df"
   ]
  },
  {
   "cell_type": "code",
   "execution_count": 7,
   "metadata": {
    "collapsed": false
   },
   "outputs": [],
   "source": [
    "normalized_df = normalization(one_hot_df.copy(), number_col)"
   ]
  },
  {
   "cell_type": "code",
   "execution_count": 8,
   "metadata": {
    "collapsed": false
   },
   "outputs": [],
   "source": [
    "# 为不同的类别进行编码\n",
    "labels = pd.DataFrame(df.label)\n",
    "label_encoder = LabelEncoder()\n",
    "enc_label = labels.apply(label_encoder.fit_transform)\n",
    "normalized_df.label = enc_label\n",
    "label_encoder.classes_\n",
    "label_num = len(label_encoder.classes_)"
   ]
  },
  {
   "cell_type": "code",
   "execution_count": 9,
   "metadata": {
    "collapsed": false
   },
   "outputs": [],
   "source": [
    "data = normalized_df"
   ]
  },
  {
   "cell_type": "code",
   "execution_count": 10,
   "metadata": {
    "collapsed": false
   },
   "outputs": [],
   "source": [
    "X = data.drop(columns=['label'])\n",
    "y = data['label']\n",
    "X_train, X_test, y_train, y_test = train_test_split(X, y, test_size=0.20, random_state=50)"
   ]
  },
  {
   "cell_type": "code",
   "execution_count": 11,
   "metadata": {
    "collapsed": false
   },
   "outputs": [],
   "source": [
    "class LoadData(Dataset):\n",
    "    def __init__(self, X, y):\n",
    "        self.X = X\n",
    "        self.y = y\n",
    "\n",
    "    def __len__(self):\n",
    "        return len(self.X)\n",
    "\n",
    "    def __getitem__(self, index):\n",
    "        X = torch.tensor(self.X.iloc[index])\n",
    "        y = torch.tensor(self.y.iloc[index])\n",
    "        return X, y"
   ]
  },
  {
   "cell_type": "code",
   "execution_count": 12,
   "metadata": {
    "collapsed": false
   },
   "outputs": [],
   "source": [
    "train_data = LoadData(X_train, y_train)\n",
    "test_data = LoadData(X_test, y_test)\n",
    "X_dimension = len(X_train.columns)\n",
    "y_dimension = len(y_train.value_counts())"
   ]
  },
  {
   "cell_type": "code",
   "execution_count": 13,
   "metadata": {
    "collapsed": false
   },
   "outputs": [],
   "source": [
    "batch_size = 128\n",
    "\n",
    "train_dataloader = DataLoader(train_data, batch_size=batch_size)\n",
    "test_dataloader = DataLoader(test_data, batch_size=batch_size)"
   ]
  },
  {
   "cell_type": "code",
   "execution_count": 14,
   "metadata": {},
   "outputs": [],
   "source": [
    "device = 'cuda:0' if torch.cuda.is_available() else 'cpu'"
   ]
  },
  {
   "cell_type": "code",
   "execution_count": 15,
   "metadata": {},
   "outputs": [],
   "source": [
    "def train(model, optimizer, loss_fn, epochs):\n",
    "\n",
    "    losses = []\n",
    "    iter = 0\n",
    "\n",
    "    for epoch in range(epochs):\n",
    "        print(f\"epoch {epoch+1}\\n-----------------\")\n",
    "        for i, (X, y) in enumerate(train_dataloader):\n",
    "            # print(X,y)\n",
    "            X, y = X.to(device).to(torch.float32), y.to(device).to(torch.float32)\n",
    "            X = X.reshape(X.shape[0], 1, X.shape[1])\n",
    "            y_pred = model(X)\n",
    "            loss = loss_fn(y_pred, y.long())\n",
    "\n",
    "            optimizer.zero_grad()\n",
    "            loss.backward()\n",
    "            optimizer.step()\n",
    "\n",
    "            if i % 100 == 0:\n",
    "                print(f\"loss: {loss.item()}\\t[{(i+1)*len(X)}/{len(train_data)}]\")\n",
    "\n",
    "                iter += 1\n",
    "                losses.append(loss.item())\n",
    "\n",
    "    return losses, iter"
   ]
  },
  {
   "cell_type": "code",
   "execution_count": 16,
   "metadata": {
    "collapsed": false
   },
   "outputs": [],
   "source": [
    "def test(model):\n",
    "    positive = 0\n",
    "    negative = 0\n",
    "    with torch.no_grad():\n",
    "        iter = 0\n",
    "        loss_sum = 0\n",
    "        for X, y in test_dataloader:\n",
    "            X, y = X.to(device).to(torch.float32), y.to(device).to(torch.float32)\n",
    "            X = X.reshape(X.shape[0], 1, X.shape[1])\n",
    "            y_pred = model(X)\n",
    "            # print(f\"y_pred: {y_pred.shape}, y: {y.shape}\")\n",
    "            loss = loss_fn(y_pred, y.long())\n",
    "            loss_sum += loss.item()\n",
    "            iter += 1\n",
    "            for item in zip(y_pred, y):\n",
    "                if torch.argmax(item[0]) == item[1]:\n",
    "                    positive += 1\n",
    "                else:\n",
    "                    negative += 1\n",
    "    acc = positive / (positive + negative)\n",
    "    avg_loss = loss_sum / iter\n",
    "    print(\"Accuracy:\", acc)\n",
    "    print(\"Average Loss:\", avg_loss)"
   ]
  },
  {
   "cell_type": "code",
   "execution_count": 17,
   "metadata": {
    "collapsed": false
   },
   "outputs": [],
   "source": [
    "def loss_value_plot(losses, iter):\n",
    "    plt.figure()\n",
    "    plt.plot([i for i in range(1, iter+1)], losses)\n",
    "    plt.xlabel('Iterations (×100)')\n",
    "    plt.ylabel('Loss Value')"
   ]
  },
  {
   "cell_type": "code",
   "execution_count": 18,
   "metadata": {
    "collapsed": false
   },
   "outputs": [],
   "source": [
    "class DNN(nn.Module):\n",
    "    def __init__(self):\n",
    "        super().__init__()\n",
    "        self.flatten = nn.Flatten()\n",
    "        self.network = nn.Sequential(\n",
    "            nn.Linear(X_dimension, 64),\n",
    "            nn.ReLU(),\n",
    "            nn.Linear(64, 64),\n",
    "            nn.ReLU(),\n",
    "            nn.Linear(64, y_dimension)\n",
    "        )\n",
    "\n",
    "    def forward(self, X):\n",
    "        X = self.flatten(X)\n",
    "        logits = self.network(X)\n",
    "        return logits"
   ]
  },
  {
   "cell_type": "code",
   "execution_count": 25,
   "metadata": {
    "collapsed": false
   },
   "outputs": [
    {
     "data": {
      "text/plain": [
       "DNN(\n",
       "  (flatten): Flatten(start_dim=1, end_dim=-1)\n",
       "  (network): Sequential(\n",
       "    (0): Linear(in_features=118, out_features=64, bias=True)\n",
       "    (1): ReLU()\n",
       "    (2): Linear(in_features=64, out_features=64, bias=True)\n",
       "    (3): ReLU()\n",
       "    (4): Linear(in_features=64, out_features=23, bias=True)\n",
       "  )\n",
       ")"
      ]
     },
     "execution_count": 25,
     "metadata": {},
     "output_type": "execute_result"
    }
   ],
   "source": [
    "DNN_model = DNN()\n",
    "DNN_model.to(device=device)"
   ]
  },
  {
   "cell_type": "code",
   "execution_count": null,
   "metadata": {
    "collapsed": false
   },
   "outputs": [],
   "source": [
    "is_trained = False\n",
    "epochs = 5\n",
    "lr = 1e-3\n",
    "momentum = 0.9\n",
    "optimizer = torch.optim.SGD(DNN_model.parameters(), lr=lr, momentum=momentum)\n",
    "loss_fn = nn.CrossEntropyLoss()"
   ]
  },
  {
   "cell_type": "code",
   "execution_count": null,
   "metadata": {
    "collapsed": false
   },
   "outputs": [],
   "source": [
    "path = './kdd99/'\n",
    "timestamp = datetime.fromtimestamp(time.time()).strftime('%Y%m%d_%H%M%S_')\n",
    "old_model_name = ''\n",
    "new_model_name = timestamp + 'DNN_model.pth'\n",
    "\n",
    "if old_model_name != '':\n",
    "    DNN_model.load_state_dict(torch.load(old_model_name))\n",
    "else:\n",
    "    losses, iter = train(DNN_model, optimizer, loss_fn, epochs)\n",
    "    torch.save(DNN_model.state_dict(), new_model_name)\n",
    "\n",
    "    loss_value_plot(losses, iter)\n",
    "    plt.savefig(path + timestamp + 'DNN_loss.png')"
   ]
  },
  {
   "cell_type": "code",
   "execution_count": null,
   "metadata": {
    "collapsed": false
   },
   "outputs": [],
   "source": [
    "test(DNN_model)"
   ]
  },
  {
   "cell_type": "code",
   "execution_count": null,
   "metadata": {
    "collapsed": false
   },
   "outputs": [],
   "source": [
    "class CNN(nn.Module):\n",
    "    def __init__(self):\n",
    "        super().__init__()\n",
    "        self.backbone = nn.Sequential(\n",
    "            nn.Conv1d(1, 3, kernel_size=2),\n",
    "            nn.MaxPool1d(2, 2),\n",
    "            nn.Conv1d(3, 8, kernel_size=2),\n",
    "            nn.MaxPool1d(2, 2),\n",
    "            nn.Conv1d(8, 16, kernel_size=2)\n",
    "        )\n",
    "        self.flatten = nn.Flatten()\n",
    "        self.fc = nn.Sequential(\n",
    "            nn.Linear(432, 64),\n",
    "            nn.ReLU(),\n",
    "            nn.Linear(64, 64),\n",
    "            nn.ReLU(),\n",
    "            nn.Linear(64, y_dimension)\n",
    "        )\n",
    "\n",
    "    def forward(self, X):\n",
    "        X = self.backbone(X)\n",
    "        X = self.flatten(X)\n",
    "        logits = self.fc(X)\n",
    "        return logits"
   ]
  },
  {
   "cell_type": "code",
   "execution_count": 87,
   "metadata": {
    "collapsed": false
   },
   "outputs": [
    {
     "ename": "RuntimeError",
     "evalue": "CUDA error: device-side assert triggered\nCUDA kernel errors might be asynchronously reported at some other API call, so the stacktrace below might be incorrect.\nFor debugging consider passing CUDA_LAUNCH_BLOCKING=1.\nCompile with `TORCH_USE_CUDA_DSA` to enable device-side assertions.\n",
     "output_type": "error",
     "traceback": [
      "\u001b[1;31m---------------------------------------------------------------------------\u001b[0m",
      "\u001b[1;31mRuntimeError\u001b[0m                              Traceback (most recent call last)",
      "\u001b[1;32md:\\document\\研一上\\信息安全技术\\code\\old\\KDD99_analysis.ipynb Cell 24\u001b[0m line \u001b[0;36m2\n\u001b[0;32m      <a href='vscode-notebook-cell:/d%3A/document/%E7%A0%94%E4%B8%80%E4%B8%8A/%E4%BF%A1%E6%81%AF%E5%AE%89%E5%85%A8%E6%8A%80%E6%9C%AF/code/old/KDD99_analysis.ipynb#X33sZmlsZQ%3D%3D?line=0'>1</a>\u001b[0m CNN_model \u001b[39m=\u001b[39m CNN()\n\u001b[1;32m----> <a href='vscode-notebook-cell:/d%3A/document/%E7%A0%94%E4%B8%80%E4%B8%8A/%E4%BF%A1%E6%81%AF%E5%AE%89%E5%85%A8%E6%8A%80%E6%9C%AF/code/old/KDD99_analysis.ipynb#X33sZmlsZQ%3D%3D?line=1'>2</a>\u001b[0m CNN_model\u001b[39m.\u001b[39;49mto(device\u001b[39m=\u001b[39;49mdevice)\n",
      "File \u001b[1;32mc:\\Users\\honndaj\\.conda\\envs\\d2l\\lib\\site-packages\\torch\\nn\\modules\\module.py:1160\u001b[0m, in \u001b[0;36mModule.to\u001b[1;34m(self, *args, **kwargs)\u001b[0m\n\u001b[0;32m   1156\u001b[0m         \u001b[39mreturn\u001b[39;00m t\u001b[39m.\u001b[39mto(device, dtype \u001b[39mif\u001b[39;00m t\u001b[39m.\u001b[39mis_floating_point() \u001b[39mor\u001b[39;00m t\u001b[39m.\u001b[39mis_complex() \u001b[39melse\u001b[39;00m \u001b[39mNone\u001b[39;00m,\n\u001b[0;32m   1157\u001b[0m                     non_blocking, memory_format\u001b[39m=\u001b[39mconvert_to_format)\n\u001b[0;32m   1158\u001b[0m     \u001b[39mreturn\u001b[39;00m t\u001b[39m.\u001b[39mto(device, dtype \u001b[39mif\u001b[39;00m t\u001b[39m.\u001b[39mis_floating_point() \u001b[39mor\u001b[39;00m t\u001b[39m.\u001b[39mis_complex() \u001b[39melse\u001b[39;00m \u001b[39mNone\u001b[39;00m, non_blocking)\n\u001b[1;32m-> 1160\u001b[0m \u001b[39mreturn\u001b[39;00m \u001b[39mself\u001b[39;49m\u001b[39m.\u001b[39;49m_apply(convert)\n",
      "File \u001b[1;32mc:\\Users\\honndaj\\.conda\\envs\\d2l\\lib\\site-packages\\torch\\nn\\modules\\module.py:810\u001b[0m, in \u001b[0;36mModule._apply\u001b[1;34m(self, fn, recurse)\u001b[0m\n\u001b[0;32m    808\u001b[0m \u001b[39mif\u001b[39;00m recurse:\n\u001b[0;32m    809\u001b[0m     \u001b[39mfor\u001b[39;00m module \u001b[39min\u001b[39;00m \u001b[39mself\u001b[39m\u001b[39m.\u001b[39mchildren():\n\u001b[1;32m--> 810\u001b[0m         module\u001b[39m.\u001b[39;49m_apply(fn)\n\u001b[0;32m    812\u001b[0m \u001b[39mdef\u001b[39;00m \u001b[39mcompute_should_use_set_data\u001b[39m(tensor, tensor_applied):\n\u001b[0;32m    813\u001b[0m     \u001b[39mif\u001b[39;00m torch\u001b[39m.\u001b[39m_has_compatible_shallow_copy_type(tensor, tensor_applied):\n\u001b[0;32m    814\u001b[0m         \u001b[39m# If the new tensor has compatible tensor type as the existing tensor,\u001b[39;00m\n\u001b[0;32m    815\u001b[0m         \u001b[39m# the current behavior is to change the tensor in-place using `.data =`,\u001b[39;00m\n\u001b[1;32m   (...)\u001b[0m\n\u001b[0;32m    820\u001b[0m         \u001b[39m# global flag to let the user control whether they want the future\u001b[39;00m\n\u001b[0;32m    821\u001b[0m         \u001b[39m# behavior of overwriting the existing tensor or not.\u001b[39;00m\n",
      "File \u001b[1;32mc:\\Users\\honndaj\\.conda\\envs\\d2l\\lib\\site-packages\\torch\\nn\\modules\\module.py:810\u001b[0m, in \u001b[0;36mModule._apply\u001b[1;34m(self, fn, recurse)\u001b[0m\n\u001b[0;32m    808\u001b[0m \u001b[39mif\u001b[39;00m recurse:\n\u001b[0;32m    809\u001b[0m     \u001b[39mfor\u001b[39;00m module \u001b[39min\u001b[39;00m \u001b[39mself\u001b[39m\u001b[39m.\u001b[39mchildren():\n\u001b[1;32m--> 810\u001b[0m         module\u001b[39m.\u001b[39;49m_apply(fn)\n\u001b[0;32m    812\u001b[0m \u001b[39mdef\u001b[39;00m \u001b[39mcompute_should_use_set_data\u001b[39m(tensor, tensor_applied):\n\u001b[0;32m    813\u001b[0m     \u001b[39mif\u001b[39;00m torch\u001b[39m.\u001b[39m_has_compatible_shallow_copy_type(tensor, tensor_applied):\n\u001b[0;32m    814\u001b[0m         \u001b[39m# If the new tensor has compatible tensor type as the existing tensor,\u001b[39;00m\n\u001b[0;32m    815\u001b[0m         \u001b[39m# the current behavior is to change the tensor in-place using `.data =`,\u001b[39;00m\n\u001b[1;32m   (...)\u001b[0m\n\u001b[0;32m    820\u001b[0m         \u001b[39m# global flag to let the user control whether they want the future\u001b[39;00m\n\u001b[0;32m    821\u001b[0m         \u001b[39m# behavior of overwriting the existing tensor or not.\u001b[39;00m\n",
      "File \u001b[1;32mc:\\Users\\honndaj\\.conda\\envs\\d2l\\lib\\site-packages\\torch\\nn\\modules\\module.py:833\u001b[0m, in \u001b[0;36mModule._apply\u001b[1;34m(self, fn, recurse)\u001b[0m\n\u001b[0;32m    829\u001b[0m \u001b[39m# Tensors stored in modules are graph leaves, and we don't want to\u001b[39;00m\n\u001b[0;32m    830\u001b[0m \u001b[39m# track autograd history of `param_applied`, so we have to use\u001b[39;00m\n\u001b[0;32m    831\u001b[0m \u001b[39m# `with torch.no_grad():`\u001b[39;00m\n\u001b[0;32m    832\u001b[0m \u001b[39mwith\u001b[39;00m torch\u001b[39m.\u001b[39mno_grad():\n\u001b[1;32m--> 833\u001b[0m     param_applied \u001b[39m=\u001b[39m fn(param)\n\u001b[0;32m    834\u001b[0m should_use_set_data \u001b[39m=\u001b[39m compute_should_use_set_data(param, param_applied)\n\u001b[0;32m    835\u001b[0m \u001b[39mif\u001b[39;00m should_use_set_data:\n",
      "File \u001b[1;32mc:\\Users\\honndaj\\.conda\\envs\\d2l\\lib\\site-packages\\torch\\nn\\modules\\module.py:1158\u001b[0m, in \u001b[0;36mModule.to.<locals>.convert\u001b[1;34m(t)\u001b[0m\n\u001b[0;32m   1155\u001b[0m \u001b[39mif\u001b[39;00m convert_to_format \u001b[39mis\u001b[39;00m \u001b[39mnot\u001b[39;00m \u001b[39mNone\u001b[39;00m \u001b[39mand\u001b[39;00m t\u001b[39m.\u001b[39mdim() \u001b[39min\u001b[39;00m (\u001b[39m4\u001b[39m, \u001b[39m5\u001b[39m):\n\u001b[0;32m   1156\u001b[0m     \u001b[39mreturn\u001b[39;00m t\u001b[39m.\u001b[39mto(device, dtype \u001b[39mif\u001b[39;00m t\u001b[39m.\u001b[39mis_floating_point() \u001b[39mor\u001b[39;00m t\u001b[39m.\u001b[39mis_complex() \u001b[39melse\u001b[39;00m \u001b[39mNone\u001b[39;00m,\n\u001b[0;32m   1157\u001b[0m                 non_blocking, memory_format\u001b[39m=\u001b[39mconvert_to_format)\n\u001b[1;32m-> 1158\u001b[0m \u001b[39mreturn\u001b[39;00m t\u001b[39m.\u001b[39;49mto(device, dtype \u001b[39mif\u001b[39;49;00m t\u001b[39m.\u001b[39;49mis_floating_point() \u001b[39mor\u001b[39;49;00m t\u001b[39m.\u001b[39;49mis_complex() \u001b[39melse\u001b[39;49;00m \u001b[39mNone\u001b[39;49;00m, non_blocking)\n",
      "\u001b[1;31mRuntimeError\u001b[0m: CUDA error: device-side assert triggered\nCUDA kernel errors might be asynchronously reported at some other API call, so the stacktrace below might be incorrect.\nFor debugging consider passing CUDA_LAUNCH_BLOCKING=1.\nCompile with `TORCH_USE_CUDA_DSA` to enable device-side assertions.\n"
     ]
    }
   ],
   "source": [
    "CNN_model = CNN()\n",
    "CNN_model.to(device=device)"
   ]
  },
  {
   "cell_type": "code",
   "execution_count": null,
   "metadata": {
    "collapsed": false
   },
   "outputs": [],
   "source": [
    "epochs = 5\n",
    "lr = 1e-3\n",
    "momentum = 0.9\n",
    "optimizer = torch.optim.SGD(CNN_model.parameters(), lr=lr, momentum=momentum)\n",
    "loss_fn = nn.CrossEntropyLoss()"
   ]
  },
  {
   "cell_type": "code",
   "execution_count": null,
   "metadata": {},
   "outputs": [],
   "source": [
    "path = './kdd99/'\n",
    "timestamp = datetime.fromtimestamp(time.time()).strftime('%Y%m%d_%H%M%S_')\n",
    "old_model_name = ''\n",
    "new_model_name = timestamp + 'CNN_model.pth'\n",
    "\n",
    "if old_model_name != '':\n",
    "    CNN_model.load_state_dict(torch.load(old_model_name))\n",
    "else:\n",
    "    losses, iter = train(CNN_model, optimizer, loss_fn, epochs)\n",
    "    torch.save(CNN_model.state_dict(), path + new_model_name)\n",
    "\n",
    "    loss_value_plot(losses, iter)\n",
    "    plt.savefig(path + timestamp + 'CNN_loss.png')"
   ]
  },
  {
   "cell_type": "code",
   "execution_count": null,
   "metadata": {
    "collapsed": false
   },
   "outputs": [],
   "source": [
    "test(CNN_model)"
   ]
  },
  {
   "cell_type": "markdown",
   "metadata": {},
   "source": [
    "### resnet"
   ]
  },
  {
   "cell_type": "code",
   "execution_count": 20,
   "metadata": {},
   "outputs": [
    {
     "data": {
      "text/plain": [
       "Sequential(\n",
       "  (0): Sequential(\n",
       "    (0): Conv1d(1, 64, kernel_size=(7,), stride=(2,), padding=(3,))\n",
       "    (1): BatchNorm1d(64, eps=1e-05, momentum=0.1, affine=True, track_running_stats=True)\n",
       "    (2): ReLU()\n",
       "    (3): MaxPool1d(kernel_size=3, stride=2, padding=1, dilation=1, ceil_mode=False)\n",
       "  )\n",
       "  (1): Sequential(\n",
       "    (0): Residual(\n",
       "      (conv1): Conv1d(64, 64, kernel_size=(3,), stride=(1,), padding=(1,))\n",
       "      (conv2): Conv1d(64, 64, kernel_size=(3,), stride=(1,), padding=(1,))\n",
       "      (bn1): BatchNorm1d(64, eps=1e-05, momentum=0.1, affine=True, track_running_stats=True)\n",
       "      (bn2): BatchNorm1d(64, eps=1e-05, momentum=0.1, affine=True, track_running_stats=True)\n",
       "    )\n",
       "    (1): Residual(\n",
       "      (conv1): Conv1d(64, 64, kernel_size=(3,), stride=(1,), padding=(1,))\n",
       "      (conv2): Conv1d(64, 64, kernel_size=(3,), stride=(1,), padding=(1,))\n",
       "      (bn1): BatchNorm1d(64, eps=1e-05, momentum=0.1, affine=True, track_running_stats=True)\n",
       "      (bn2): BatchNorm1d(64, eps=1e-05, momentum=0.1, affine=True, track_running_stats=True)\n",
       "    )\n",
       "  )\n",
       "  (2): Sequential(\n",
       "    (0): Residual(\n",
       "      (conv1): Conv1d(64, 128, kernel_size=(3,), stride=(2,), padding=(1,))\n",
       "      (conv2): Conv1d(128, 128, kernel_size=(3,), stride=(1,), padding=(1,))\n",
       "      (conv3): Conv1d(64, 128, kernel_size=(1,), stride=(2,))\n",
       "      (bn1): BatchNorm1d(128, eps=1e-05, momentum=0.1, affine=True, track_running_stats=True)\n",
       "      (bn2): BatchNorm1d(128, eps=1e-05, momentum=0.1, affine=True, track_running_stats=True)\n",
       "    )\n",
       "    (1): Residual(\n",
       "      (conv1): Conv1d(128, 128, kernel_size=(3,), stride=(1,), padding=(1,))\n",
       "      (conv2): Conv1d(128, 128, kernel_size=(3,), stride=(1,), padding=(1,))\n",
       "      (bn1): BatchNorm1d(128, eps=1e-05, momentum=0.1, affine=True, track_running_stats=True)\n",
       "      (bn2): BatchNorm1d(128, eps=1e-05, momentum=0.1, affine=True, track_running_stats=True)\n",
       "    )\n",
       "  )\n",
       "  (3): Sequential(\n",
       "    (0): Residual(\n",
       "      (conv1): Conv1d(128, 256, kernel_size=(3,), stride=(2,), padding=(1,))\n",
       "      (conv2): Conv1d(256, 256, kernel_size=(3,), stride=(1,), padding=(1,))\n",
       "      (conv3): Conv1d(128, 256, kernel_size=(1,), stride=(2,))\n",
       "      (bn1): BatchNorm1d(256, eps=1e-05, momentum=0.1, affine=True, track_running_stats=True)\n",
       "      (bn2): BatchNorm1d(256, eps=1e-05, momentum=0.1, affine=True, track_running_stats=True)\n",
       "    )\n",
       "    (1): Residual(\n",
       "      (conv1): Conv1d(256, 256, kernel_size=(3,), stride=(1,), padding=(1,))\n",
       "      (conv2): Conv1d(256, 256, kernel_size=(3,), stride=(1,), padding=(1,))\n",
       "      (bn1): BatchNorm1d(256, eps=1e-05, momentum=0.1, affine=True, track_running_stats=True)\n",
       "      (bn2): BatchNorm1d(256, eps=1e-05, momentum=0.1, affine=True, track_running_stats=True)\n",
       "    )\n",
       "  )\n",
       "  (4): Sequential(\n",
       "    (0): Residual(\n",
       "      (conv1): Conv1d(256, 512, kernel_size=(3,), stride=(2,), padding=(1,))\n",
       "      (conv2): Conv1d(512, 512, kernel_size=(3,), stride=(1,), padding=(1,))\n",
       "      (conv3): Conv1d(256, 512, kernel_size=(1,), stride=(2,))\n",
       "      (bn1): BatchNorm1d(512, eps=1e-05, momentum=0.1, affine=True, track_running_stats=True)\n",
       "      (bn2): BatchNorm1d(512, eps=1e-05, momentum=0.1, affine=True, track_running_stats=True)\n",
       "    )\n",
       "    (1): Residual(\n",
       "      (conv1): Conv1d(512, 512, kernel_size=(3,), stride=(1,), padding=(1,))\n",
       "      (conv2): Conv1d(512, 512, kernel_size=(3,), stride=(1,), padding=(1,))\n",
       "      (bn1): BatchNorm1d(512, eps=1e-05, momentum=0.1, affine=True, track_running_stats=True)\n",
       "      (bn2): BatchNorm1d(512, eps=1e-05, momentum=0.1, affine=True, track_running_stats=True)\n",
       "    )\n",
       "  )\n",
       "  (5): AdaptiveAvgPool1d(output_size=1)\n",
       "  (6): Flatten(start_dim=1, end_dim=-1)\n",
       "  (7): Linear(in_features=512, out_features=23, bias=True)\n",
       ")"
      ]
     },
     "execution_count": 20,
     "metadata": {},
     "output_type": "execute_result"
    }
   ],
   "source": [
    "class Residual(nn.Module): \n",
    "    def __init__(self, input_channels, num_channels,\n",
    "                 use_1x1conv=False, strides=1):\n",
    "        super().__init__()\n",
    "        self.conv1 = nn.Conv1d(input_channels, num_channels,\n",
    "                               kernel_size=3, padding=1, stride=strides)\n",
    "        self.conv2 = nn.Conv1d(num_channels, num_channels,\n",
    "                               kernel_size=3, padding=1)\n",
    "        if use_1x1conv:\n",
    "            self.conv3 = nn.Conv1d(input_channels, num_channels,\n",
    "                                   kernel_size=1, stride=strides)\n",
    "        else:\n",
    "            self.conv3 = None\n",
    "        self.bn1 = nn.BatchNorm1d(num_channels)\n",
    "        self.bn2 = nn.BatchNorm1d(num_channels)\n",
    "\n",
    "    def forward(self, X):\n",
    "        Y = F.relu(self.bn1(self.conv1(X)))\n",
    "        Y = self.bn2(self.conv2(Y))\n",
    "        if self.conv3:\n",
    "            X = self.conv3(X)\n",
    "        Y += X\n",
    "        return F.relu(Y)\n",
    "\n",
    "def resnet_block(input_channels, num_channels, num_residuals,\n",
    "                 first_block=False):\n",
    "    blk = []\n",
    "    for i in range(num_residuals):\n",
    "        if i == 0 and not first_block:\n",
    "            blk.append(Residual(input_channels, num_channels,\n",
    "                                use_1x1conv=True, strides=2))\n",
    "        else:\n",
    "            blk.append(Residual(num_channels, num_channels))\n",
    "    return blk\n",
    "\n",
    "b1 = nn.Sequential(nn.Conv1d(1, 64, kernel_size=7, stride=2, padding=3),\n",
    "                   nn.BatchNorm1d(64), nn.ReLU(),\n",
    "                   nn.MaxPool1d(kernel_size=3, stride=2, padding=1))\n",
    "b2 = nn.Sequential(*resnet_block(64, 64, 2, first_block=True))\n",
    "b3 = nn.Sequential(*resnet_block(64, 128, 2))\n",
    "b4 = nn.Sequential(*resnet_block(128, 256, 2))\n",
    "b5 = nn.Sequential(*resnet_block(256, 512, 2))\n",
    "\n",
    "resnet_model = nn.Sequential(b1, b2, b3, b4, b5,\n",
    "                    nn.AdaptiveAvgPool1d((1)),\n",
    "                    nn.Flatten(), nn.Linear(512, label_num))\n",
    "resnet_model.to(device=device)"
   ]
  },
  {
   "cell_type": "code",
   "execution_count": 21,
   "metadata": {},
   "outputs": [
    {
     "name": "stdout",
     "output_type": "stream",
     "text": [
      "Sequential output shape:\t torch.Size([1, 64, 56])\n",
      "Sequential output shape:\t torch.Size([1, 64, 56])\n",
      "Sequential output shape:\t torch.Size([1, 128, 28])\n",
      "Sequential output shape:\t torch.Size([1, 256, 14])\n",
      "Sequential output shape:\t torch.Size([1, 512, 7])\n",
      "AdaptiveAvgPool1d output shape:\t torch.Size([1, 512, 1])\n",
      "Flatten output shape:\t torch.Size([1, 512])\n",
      "Linear output shape:\t torch.Size([1, 23])\n"
     ]
    }
   ],
   "source": [
    "X = torch.rand(size=(1, 1, 224), device = device)\n",
    "for layer in resnet_model:\n",
    "    X = layer(X)\n",
    "    print(layer.__class__.__name__,'output shape:\\t', X.shape)"
   ]
  },
  {
   "cell_type": "code",
   "execution_count": 22,
   "metadata": {},
   "outputs": [],
   "source": [
    "is_trained = False\n",
    "epochs = 5\n",
    "lr = 1e-3 \n",
    "momentum = 0.9\n",
    "optimizer = torch.optim.SGD(resnet_model.parameters(), lr=lr)\n",
    "loss_fn = nn.CrossEntropyLoss()"
   ]
  },
  {
   "cell_type": "code",
   "execution_count": 23,
   "metadata": {},
   "outputs": [
    {
     "name": "stdout",
     "output_type": "stream",
     "text": [
      "epoch 1\n",
      "-----------------\n",
      "loss: 2.7919507026672363\t[128/395216]\n",
      "loss: 0.10325092077255249\t[12928/395216]\n",
      "loss: 0.12122007459402084\t[25728/395216]\n",
      "loss: 0.06511908769607544\t[38528/395216]\n",
      "loss: 0.07444724440574646\t[51328/395216]\n",
      "loss: 0.04308005049824715\t[64128/395216]\n",
      "loss: 0.07678329199552536\t[76928/395216]\n",
      "loss: 0.021738100796937943\t[89728/395216]\n",
      "loss: 0.07202157378196716\t[102528/395216]\n",
      "loss: 0.013766096904873848\t[115328/395216]\n",
      "loss: 0.018277285620570183\t[128128/395216]\n",
      "loss: 0.03003612719476223\t[140928/395216]\n",
      "loss: 0.011348562315106392\t[153728/395216]\n",
      "loss: 0.005721363704651594\t[166528/395216]\n",
      "loss: 0.012138902209699154\t[179328/395216]\n",
      "loss: 0.0050987065769732\t[192128/395216]\n",
      "loss: 0.005431415978819132\t[204928/395216]\n",
      "loss: 0.003758478444069624\t[217728/395216]\n",
      "loss: 0.019388873130083084\t[230528/395216]\n",
      "loss: 0.011002158746123314\t[243328/395216]\n",
      "loss: 0.011393379420042038\t[256128/395216]\n",
      "loss: 0.005530799273401499\t[268928/395216]\n",
      "loss: 0.02788977324962616\t[281728/395216]\n",
      "loss: 0.006581881549209356\t[294528/395216]\n",
      "loss: 0.0036829933524131775\t[307328/395216]\n",
      "loss: 0.05036287382245064\t[320128/395216]\n",
      "loss: 0.016314035281538963\t[332928/395216]\n",
      "loss: 0.02868543565273285\t[345728/395216]\n",
      "loss: 0.005457152612507343\t[358528/395216]\n",
      "loss: 0.00599410617724061\t[371328/395216]\n",
      "loss: 0.013320882804691792\t[384128/395216]\n",
      "epoch 2\n",
      "-----------------\n",
      "loss: 0.0071987551636993885\t[128/395216]\n",
      "loss: 0.005679850932210684\t[12928/395216]\n",
      "loss: 0.00422913720831275\t[25728/395216]\n",
      "loss: 0.004817881155759096\t[38528/395216]\n",
      "loss: 0.005105251912027597\t[51328/395216]\n",
      "loss: 0.00418311171233654\t[64128/395216]\n",
      "loss: 0.003268891479820013\t[76928/395216]\n",
      "loss: 0.0023712273687124252\t[89728/395216]\n",
      "loss: 0.036966439336538315\t[102528/395216]\n",
      "loss: 0.0029788033571094275\t[115328/395216]\n",
      "loss: 0.0027424655854701996\t[128128/395216]\n",
      "loss: 0.00811455212533474\t[140928/395216]\n",
      "loss: 0.0022502467036247253\t[153728/395216]\n",
      "loss: 0.00197949493303895\t[166528/395216]\n",
      "loss: 0.0035207539331167936\t[179328/395216]\n",
      "loss: 0.0014602686278522015\t[192128/395216]\n",
      "loss: 0.0018007366452366114\t[204928/395216]\n",
      "loss: 0.0011860515223816037\t[217728/395216]\n",
      "loss: 0.010860728099942207\t[230528/395216]\n",
      "loss: 0.004697508178651333\t[243328/395216]\n",
      "loss: 0.0035092090256512165\t[256128/395216]\n",
      "loss: 0.0014110459014773369\t[268928/395216]\n",
      "loss: 0.011110655963420868\t[281728/395216]\n",
      "loss: 0.005028937477618456\t[294528/395216]\n",
      "loss: 0.001690764562226832\t[307328/395216]\n",
      "loss: 0.0315847173333168\t[320128/395216]\n",
      "loss: 0.004986778367310762\t[332928/395216]\n",
      "loss: 0.011373130604624748\t[345728/395216]\n",
      "loss: 0.002246216172352433\t[358528/395216]\n",
      "loss: 0.007018189877271652\t[371328/395216]\n",
      "loss: 0.004883295390754938\t[384128/395216]\n",
      "epoch 3\n",
      "-----------------\n",
      "loss: 0.002714515198022127\t[128/395216]\n",
      "loss: 0.0022785156033933163\t[12928/395216]\n",
      "loss: 0.0019882109481841326\t[25728/395216]\n",
      "loss: 0.0017640338046476245\t[38528/395216]\n",
      "loss: 0.002384477760642767\t[51328/395216]\n",
      "loss: 0.0021608355455100536\t[64128/395216]\n",
      "loss: 0.0015662370715290308\t[76928/395216]\n",
      "loss: 0.0011727233650162816\t[89728/395216]\n",
      "loss: 0.02785167098045349\t[102528/395216]\n",
      "loss: 0.0021876830141991377\t[115328/395216]\n",
      "loss: 0.0013182539260014892\t[128128/395216]\n",
      "loss: 0.005036189220845699\t[140928/395216]\n",
      "loss: 0.0012991551775485277\t[153728/395216]\n",
      "loss: 0.0016020623734220862\t[166528/395216]\n",
      "loss: 0.0017722148913890123\t[179328/395216]\n",
      "loss: 0.0008392603485845029\t[192128/395216]\n",
      "loss: 0.0013358526630327106\t[204928/395216]\n",
      "loss: 0.0006666462286375463\t[217728/395216]\n",
      "loss: 0.008479582145810127\t[230528/395216]\n",
      "loss: 0.0034863161854445934\t[243328/395216]\n",
      "loss: 0.002118605887517333\t[256128/395216]\n",
      "loss: 0.0006446235347539186\t[268928/395216]\n",
      "loss: 0.006497415713965893\t[281728/395216]\n",
      "loss: 0.003887273371219635\t[294528/395216]\n",
      "loss: 0.001273245783522725\t[307328/395216]\n",
      "loss: 0.021104514598846436\t[320128/395216]\n",
      "loss: 0.0023299967870116234\t[332928/395216]\n",
      "loss: 0.006919988431036472\t[345728/395216]\n",
      "loss: 0.0014182182494550943\t[358528/395216]\n",
      "loss: 0.006635594647377729\t[371328/395216]\n",
      "loss: 0.0027797140646725893\t[384128/395216]\n",
      "epoch 4\n",
      "-----------------\n",
      "loss: 0.001613023690879345\t[128/395216]\n",
      "loss: 0.0013950865250080824\t[12928/395216]\n",
      "loss: 0.0013555472251027822\t[25728/395216]\n",
      "loss: 0.0009946252685040236\t[38528/395216]\n",
      "loss: 0.0014855772024020553\t[51328/395216]\n",
      "loss: 0.0014522533165290952\t[64128/395216]\n",
      "loss: 0.001024582190439105\t[76928/395216]\n",
      "loss: 0.0007590944878757\t[89728/395216]\n",
      "loss: 0.022383738309144974\t[102528/395216]\n",
      "loss: 0.0017273740377277136\t[115328/395216]\n",
      "loss: 0.0008197766146622598\t[128128/395216]\n",
      "loss: 0.003744963789358735\t[140928/395216]\n",
      "loss: 0.0009090489475056529\t[153728/395216]\n",
      "loss: 0.0012370204785838723\t[166528/395216]\n",
      "loss: 0.0010940940119326115\t[179328/395216]\n",
      "loss: 0.0005840593366883695\t[192128/395216]\n",
      "loss: 0.0010276519460603595\t[204928/395216]\n",
      "loss: 0.000449406128609553\t[217728/395216]\n",
      "loss: 0.006147031672298908\t[230528/395216]\n",
      "loss: 0.0027904892340302467\t[243328/395216]\n",
      "loss: 0.0015117180300876498\t[256128/395216]\n",
      "loss: 0.00043270381866022944\t[268928/395216]\n",
      "loss: 0.00443584518507123\t[281728/395216]\n",
      "loss: 0.0027609295211732388\t[294528/395216]\n",
      "loss: 0.001048741745762527\t[307328/395216]\n",
      "loss: 0.01427085418254137\t[320128/395216]\n",
      "loss: 0.0014775312738493085\t[332928/395216]\n",
      "loss: 0.0047237160615623\t[345728/395216]\n",
      "loss: 0.0010407736990600824\t[358528/395216]\n",
      "loss: 0.005649741739034653\t[371328/395216]\n",
      "loss: 0.0017875352641567588\t[384128/395216]\n",
      "epoch 5\n",
      "-----------------\n",
      "loss: 0.0011652964167296886\t[128/395216]\n",
      "loss: 0.0010275059612467885\t[12928/395216]\n",
      "loss: 0.0010242643766105175\t[25728/395216]\n",
      "loss: 0.0006828452460467815\t[38528/395216]\n",
      "loss: 0.0010887683602049947\t[51328/395216]\n",
      "loss: 0.0011287606321275234\t[64128/395216]\n",
      "loss: 0.0008035924402065575\t[76928/395216]\n",
      "loss: 0.0005556646501645446\t[89728/395216]\n",
      "loss: 0.018389036878943443\t[102528/395216]\n",
      "loss: 0.0013518964406102896\t[115328/395216]\n",
      "loss: 0.0005983583978377283\t[128128/395216]\n",
      "loss: 0.0032258101273328066\t[140928/395216]\n",
      "loss: 0.0006917837308719754\t[153728/395216]\n",
      "loss: 0.0008824406540952623\t[166528/395216]\n",
      "loss: 0.0007872384157963097\t[179328/395216]\n",
      "loss: 0.00044416432501748204\t[192128/395216]\n",
      "loss: 0.0008161442237906158\t[204928/395216]\n",
      "loss: 0.00035144234425388277\t[217728/395216]\n",
      "loss: 0.004730241373181343\t[230528/395216]\n",
      "loss: 0.0022541729267686605\t[243328/395216]\n",
      "loss: 0.0011816981714218855\t[256128/395216]\n",
      "loss: 0.0003247826243750751\t[268928/395216]\n",
      "loss: 0.003150548553094268\t[281728/395216]\n",
      "loss: 0.0021224352531135082\t[294528/395216]\n",
      "loss: 0.0008361522923223674\t[307328/395216]\n",
      "loss: 0.009609282948076725\t[320128/395216]\n",
      "loss: 0.0010125617263838649\t[332928/395216]\n",
      "loss: 0.003640905488282442\t[345728/395216]\n",
      "loss: 0.0008172276429831982\t[358528/395216]\n",
      "loss: 0.005176534876227379\t[371328/395216]\n",
      "loss: 0.0013301073340699077\t[384128/395216]\n"
     ]
    },
    {
     "data": {
      "image/png": "[encoded data removed]",
      "text/plain": [
       "<Figure size 640x480 with 1 Axes>"
      ]
     },
     "metadata": {},
     "output_type": "display_data"
    }
   ],
   "source": [
    "path = './kdd99/'\n",
    "timestamp = datetime.fromtimestamp(time.time()).strftime('%Y%m%d_%H%M%S_')\n",
    "old_model_name = ''\n",
    "new_model_name = timestamp + 'resnet_model.pth'\n",
    "\n",
    "if old_model_name != '':\n",
    "    resnet_model.load_state_dict(torch.load(old_model_name))\n",
    "else:\n",
    "    losses, iter = train(resnet_model, optimizer, loss_fn, epochs)\n",
    "    torch.save(resnet_model.state_dict(), path + new_model_name)\n",
    "\n",
    "    loss_value_plot(losses, iter)\n",
    "    plt.savefig(path + timestamp + 'resnet_loss.png')"
   ]
  },
  {
   "cell_type": "code",
   "execution_count": 24,
   "metadata": {},
   "outputs": [
    {
     "name": "stdout",
     "output_type": "stream",
     "text": [
      "Accuracy: 0.9992308003724546\n",
      "Average Loss: 0.004080249528269256\n"
     ]
    }
   ],
   "source": [
    "test(resnet_model)"
   ]
  }
 ],
 "metadata": {
  "kernelspec": {
   "display_name": "Python 3",
   "language": "python",
   "name": "python3"
  },
  "language_info": {
   "codemirror_mode": {
    "name": "ipython",
    "version": 3
   },
   "file_extension": ".py",
   "mimetype": "text/x-python",
   "name": "python",
   "nbconvert_exporter": "python",
   "pygments_lexer": "ipython3",
   "version": "3.9.18"
  }
 },
 "nbformat": 4,
 "nbformat_minor": 0
}
