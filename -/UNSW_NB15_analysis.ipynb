{
 "cells": [
  {
   "cell_type": "code",
   "execution_count": 28,
   "metadata": {},
   "outputs": [],
   "source": [
    "import os\n",
    "import time\n",
    "\n",
    "import torch\n",
    "from torch import nn\n",
    "from torchvision.transforms import ToTensor\n",
    "from torch.utils.data import DataLoader\n",
    "from torch.utils.data import Dataset\n",
    "from torch.nn import functional as F\n",
    "from datetime import datetime\n",
    "\n",
    "import sklearn\n",
    "import pandas as pd\n",
    "import numpy as np\n",
    "import matplotlib.pyplot as plt\n",
    "\n",
    "from sklearn.model_selection import train_test_split\n",
    "from sklearn.preprocessing import MinMaxScaler\n",
    "from sklearn.preprocessing import LabelEncoder"
   ]
  },
  {
   "cell_type": "code",
   "execution_count": 29,
   "metadata": {},
   "outputs": [],
   "source": [
    "df_train = pd.read_csv('../UNSW-NB15/UNSW_NB15_training-set.csv')\n",
    "df_test = pd.read_csv('../UNSW-NB15/UNSW_NB15_testing-set.csv')\n",
    "df = pd.concat([df_train, df_test])\n",
    "df = df.drop(['id', 'label'], axis=1)"
   ]
  },
  {
   "cell_type": "code",
   "execution_count": 30,
   "metadata": {},
   "outputs": [],
   "source": [
    "number_col = df.select_dtypes(include=['number']).columns\n",
    "cat_col = df.columns.difference(number_col)\n",
    "cat_col = cat_col.drop('attack_cat')\n",
    "df_cat = df[cat_col].copy()"
   ]
  },
  {
   "cell_type": "code",
   "execution_count": 31,
   "metadata": {},
   "outputs": [],
   "source": [
    "# one-hot编码\n",
    "one_hot_data = pd.get_dummies(df_cat, columns=cat_col)\n",
    "\n",
    "# 将原数据的分类变量去掉\n",
    "one_hot_df = pd.concat([df, one_hot_data],axis=1)\n",
    "one_hot_df.drop(columns=cat_col, inplace=True)"
   ]
  },
  {
   "cell_type": "code",
   "execution_count": 32,
   "metadata": {},
   "outputs": [],
   "source": [
    "minmax_scale = MinMaxScaler(feature_range=(0, 1))\n",
    "\n",
    "def normalization(df,col):\n",
    "    for i in col:\n",
    "        arr = df[i]\n",
    "        arr = np.array(arr)\n",
    "        df[i] = minmax_scale.fit_transform(arr.reshape(len(arr),1))\n",
    "    return df"
   ]
  },
  {
   "cell_type": "code",
   "execution_count": 33,
   "metadata": {},
   "outputs": [],
   "source": [
    "normalized_df = normalization(one_hot_df.copy(), number_col)"
   ]
  },
  {
   "cell_type": "code",
   "execution_count": 34,
   "metadata": {},
   "outputs": [
    {
     "data": {
      "text/plain": [
       "array(['Analysis', 'Backdoor', 'DoS', 'Exploits', 'Fuzzers', 'Generic',\n",
       "       'Normal', 'Reconnaissance', 'Shellcode', 'Worms'], dtype=object)"
      ]
     },
     "execution_count": 34,
     "metadata": {},
     "output_type": "execute_result"
    }
   ],
   "source": [
    "# 为不同的类别进行编码\n",
    "labels = pd.DataFrame(df.attack_cat)\n",
    "label_encoder = LabelEncoder()\n",
    "enc_label = labels.apply(label_encoder.fit_transform)\n",
    "normalized_df.attack_cat = enc_label\n",
    "label_encoder.classes_"
   ]
  },
  {
   "cell_type": "code",
   "execution_count": 35,
   "metadata": {},
   "outputs": [],
   "source": [
    "data = normalized_df"
   ]
  },
  {
   "cell_type": "code",
   "execution_count": 36,
   "metadata": {},
   "outputs": [],
   "source": [
    "X = data.drop(columns=['attack_cat'])\n",
    "y = data['attack_cat']\n",
    "X_train = X[0:df_train.shape[0]]\n",
    "y_train = y[0:df_train.shape[0]]\n",
    "X_test = X[df_train.shape[0]:]\n",
    "y_test = y[df_train.shape[0]:]"
   ]
  },
  {
   "cell_type": "code",
   "execution_count": 37,
   "metadata": {},
   "outputs": [],
   "source": [
    "class LoadData(Dataset):\n",
    "    def __init__(self, X, y):\n",
    "        self.X = X\n",
    "        self.y = y\n",
    "\n",
    "    def __len__(self):\n",
    "        return len(self.X)\n",
    "\n",
    "    def __getitem__(self, index):\n",
    "        X = torch.tensor(self.X.iloc[index])\n",
    "        y = torch.tensor(self.y.iloc[index])\n",
    "        return X, y"
   ]
  },
  {
   "cell_type": "code",
   "execution_count": 38,
   "metadata": {},
   "outputs": [],
   "source": [
    "train_data = LoadData(X_train, y_train)\n",
    "test_data = LoadData(X_test, y_test)\n",
    "X_dimension = len(X_train.columns)\n",
    "y_dimension = len(y_train.value_counts())"
   ]
  },
  {
   "cell_type": "code",
   "execution_count": 39,
   "metadata": {},
   "outputs": [],
   "source": [
    "batch_size = 256\n",
    "\n",
    "train_dataloader = DataLoader(train_data, batch_size=batch_size)\n",
    "test_dataloader = DataLoader(test_data, batch_size=batch_size)"
   ]
  },
  {
   "cell_type": "code",
   "execution_count": 40,
   "metadata": {},
   "outputs": [],
   "source": [
    "device = 'cuda:0' if torch.cuda.is_available() else 'cpu'"
   ]
  },
  {
   "cell_type": "code",
   "execution_count": 41,
   "metadata": {},
   "outputs": [],
   "source": [
    "def train(model, optimizer, loss_fn, epochs):\n",
    "\n",
    "    losses = []\n",
    "    iter = 0\n",
    "\n",
    "    for epoch in range(epochs):\n",
    "        print(f\"epoch {epoch+1}\\n-----------------\")\n",
    "        for i, (X, y) in enumerate(train_dataloader):\n",
    "            X, y = X.to(device).to(torch.float32), y.to(device).to(torch.float32)\n",
    "            X = X.reshape(X.shape[0], 1, X_dimension)\n",
    "            y_pred = model(X)\n",
    "            loss = loss_fn(y_pred, y.long())\n",
    "\n",
    "            optimizer.zero_grad()\n",
    "            loss.backward()\n",
    "            optimizer.step()\n",
    "\n",
    "            if i % 100 == 0:\n",
    "                print(f\"loss: {loss.item()}\\t[{(i+1)*len(X)}/{len(train_data)}]\")\n",
    "\n",
    "                iter += 1\n",
    "                losses.append(loss.item())\n",
    "\n",
    "    return losses, iter"
   ]
  },
  {
   "cell_type": "code",
   "execution_count": 42,
   "metadata": {},
   "outputs": [],
   "source": [
    "def test(model):\n",
    "    positive = 0\n",
    "    negative = 0\n",
    "    with torch.no_grad():\n",
    "        iter = 0\n",
    "        loss_sum = 0\n",
    "        for X, y in test_dataloader:\n",
    "            X, y = X.to(device).to(torch.float32), y.to(device).to(torch.float32)\n",
    "            X = X.reshape(X.shape[0], 1, X_dimension)\n",
    "            y_pred = model(X)\n",
    "            # print(f\"y_pred: {y_pred.shape}, y: {y.shape}\")\n",
    "            loss = loss_fn(y_pred, y.long())\n",
    "            loss_sum += loss.item()\n",
    "            iter += 1\n",
    "            for item in zip(y_pred, y):\n",
    "                if torch.argmax(item[0]) == item[1]:\n",
    "                    positive += 1\n",
    "                else:\n",
    "                    negative += 1\n",
    "    acc = positive / (positive + negative)\n",
    "    avg_loss = loss_sum / iter\n",
    "    print(\"Accuracy:\", acc)\n",
    "    print(\"Average Loss:\", avg_loss)"
   ]
  },
  {
   "cell_type": "code",
   "execution_count": 43,
   "metadata": {},
   "outputs": [],
   "source": [
    "def loss_value_plot(losses, iter):\n",
    "    plt.figure()\n",
    "    plt.plot([i for i in range(1, iter+1)], losses)\n",
    "    plt.xlabel('Iterations (×100)')\n",
    "    plt.ylabel('Loss Value')"
   ]
  },
  {
   "cell_type": "markdown",
   "metadata": {},
   "source": [
    "### DNN"
   ]
  },
  {
   "cell_type": "code",
   "execution_count": 44,
   "metadata": {},
   "outputs": [],
   "source": [
    "class DNN(nn.Module):\n",
    "    def __init__(self):\n",
    "        super().__init__()\n",
    "        self.flatten = nn.Flatten()\n",
    "        self.network = nn.Sequential(\n",
    "            nn.Linear(X_dimension, 64),\n",
    "            nn.ReLU(),\n",
    "            nn.Linear(64, 64),\n",
    "            nn.ReLU(),\n",
    "            nn.Linear(64, y_dimension)\n",
    "        )\n",
    "\n",
    "    def forward(self, X):\n",
    "        X = self.flatten(X)\n",
    "        logits = self.network(X)\n",
    "        return logits"
   ]
  },
  {
   "cell_type": "code",
   "execution_count": 45,
   "metadata": {},
   "outputs": [
    {
     "data": {
      "text/plain": [
       "DNN(\n",
       "  (flatten): Flatten(start_dim=1, end_dim=-1)\n",
       "  (network): Sequential(\n",
       "    (0): Linear(in_features=196, out_features=64, bias=True)\n",
       "    (1): ReLU()\n",
       "    (2): Linear(in_features=64, out_features=64, bias=True)\n",
       "    (3): ReLU()\n",
       "    (4): Linear(in_features=64, out_features=10, bias=True)\n",
       "  )\n",
       ")"
      ]
     },
     "execution_count": 45,
     "metadata": {},
     "output_type": "execute_result"
    }
   ],
   "source": [
    "DNN_model = DNN()\n",
    "DNN_model.to(device=device)"
   ]
  },
  {
   "cell_type": "code",
   "execution_count": 46,
   "metadata": {},
   "outputs": [],
   "source": [
    "# 超参数\n",
    "is_trained = False\n",
    "epochs = 1\n",
    "lr = 0.05\n",
    "momentum = 0.9\n",
    "optimizer = torch.optim.SGD(DNN_model.parameters(), lr=lr)\n",
    "loss_fn = nn.CrossEntropyLoss()"
   ]
  },
  {
   "cell_type": "code",
   "execution_count": 47,
   "metadata": {},
   "outputs": [
    {
     "name": "stdout",
     "output_type": "stream",
     "text": [
      "epoch 1\n",
      "-----------------\n",
      "loss: 2.3162660598754883\t[256/175341]\n"
     ]
    },
    {
     "name": "stdout",
     "output_type": "stream",
     "text": [
      "loss: 0.010824651457369328\t[25856/175341]\n",
      "loss: 2.359840154647827\t[51456/175341]\n",
      "loss: 1.6743067502975464\t[77056/175341]\n",
      "loss: 1.6228532791137695\t[102656/175341]\n",
      "loss: 1.0944522619247437\t[128256/175341]\n",
      "loss: 0.29347360134124756\t[153856/175341]\n"
     ]
    },
    {
     "data": {
      "image/png": "[encoded data removed]",
      "text/plain": [
       "<Figure size 640x480 with 1 Axes>"
      ]
     },
     "metadata": {},
     "output_type": "display_data"
    }
   ],
   "source": [
    "path = './UNSW-NB15/'\n",
    "timestamp = datetime.fromtimestamp(time.time()).strftime('%Y%m%d_%H%M%S_')\n",
    "old_model_name = ''\n",
    "new_model_name = timestamp + 'DNN_model.pth'\n",
    "\n",
    "if old_model_name != '':\n",
    "    DNN_model.load_state_dict(torch.load(old_model_name))\n",
    "else:\n",
    "    losses, iter = train(DNN_model, optimizer, loss_fn, epochs)\n",
    "    torch.save(DNN_model.state_dict(), path + new_model_name)\n",
    "\n",
    "    loss_value_plot(losses, iter)\n",
    "    plt.savefig(path + timestamp + 'DNN_loss.png')"
   ]
  },
  {
   "cell_type": "code",
   "execution_count": 58,
   "metadata": {},
   "outputs": [
    {
     "name": "stdout",
     "output_type": "stream",
     "text": [
      "Accuracy: 0.3836661322450566\n",
      "Average Loss: 2.467819094707067\n"
     ]
    }
   ],
   "source": [
    "test(DNN_model)"
   ]
  },
  {
   "cell_type": "markdown",
   "metadata": {},
   "source": [
    "### CNN"
   ]
  },
  {
   "cell_type": "code",
   "execution_count": 48,
   "metadata": {},
   "outputs": [],
   "source": [
    "class CNN(nn.Module):\n",
    "    def __init__(self):\n",
    "        super().__init__()\n",
    "        self.backbone = nn.Sequential(\n",
    "            nn.Conv1d(1, 5, kernel_size=4),\n",
    "            nn.MaxPool1d(2, 2),\n",
    "            nn.Conv1d(5, 12, kernel_size=4),\n",
    "            nn.MaxPool1d(2, 2),\n",
    "            nn.Conv1d(12, 18, kernel_size=2)\n",
    "        )\n",
    "        self.flatten = nn.Flatten()\n",
    "        self.fc = nn.Sequential(\n",
    "            nn.Linear(810, 128),\n",
    "            nn.ReLU(),\n",
    "            nn.Linear(128, 64),\n",
    "            nn.ReLU(),\n",
    "            nn.Linear(64, y_dimension)\n",
    "        )\n",
    "\n",
    "    def forward(self, X):\n",
    "        X = self.backbone(X)\n",
    "        X = self.flatten(X)\n",
    "        logits = self.fc(X)\n",
    "        return logits"
   ]
  },
  {
   "cell_type": "code",
   "execution_count": 49,
   "metadata": {},
   "outputs": [
    {
     "data": {
      "text/plain": [
       "CNN(\n",
       "  (backbone): Sequential(\n",
       "    (0): Conv1d(1, 5, kernel_size=(4,), stride=(1,))\n",
       "    (1): MaxPool1d(kernel_size=2, stride=2, padding=0, dilation=1, ceil_mode=False)\n",
       "    (2): Conv1d(5, 12, kernel_size=(4,), stride=(1,))\n",
       "    (3): MaxPool1d(kernel_size=2, stride=2, padding=0, dilation=1, ceil_mode=False)\n",
       "    (4): Conv1d(12, 18, kernel_size=(2,), stride=(1,))\n",
       "  )\n",
       "  (flatten): Flatten(start_dim=1, end_dim=-1)\n",
       "  (fc): Sequential(\n",
       "    (0): Linear(in_features=810, out_features=128, bias=True)\n",
       "    (1): ReLU()\n",
       "    (2): Linear(in_features=128, out_features=64, bias=True)\n",
       "    (3): ReLU()\n",
       "    (4): Linear(in_features=64, out_features=10, bias=True)\n",
       "  )\n",
       ")"
      ]
     },
     "execution_count": 49,
     "metadata": {},
     "output_type": "execute_result"
    }
   ],
   "source": [
    "CNN_model = CNN()\n",
    "CNN_model.to(device=device)"
   ]
  },
  {
   "cell_type": "code",
   "execution_count": 50,
   "metadata": {},
   "outputs": [],
   "source": [
    "epochs = 1\n",
    "lr = 0.001\n",
    "momentum = 0.9\n",
    "optimizer = torch.optim.Adam(CNN_model.parameters(), lr=lr)\n",
    "loss_fn = nn.CrossEntropyLoss()"
   ]
  },
  {
   "cell_type": "code",
   "execution_count": 51,
   "metadata": {},
   "outputs": [
    {
     "name": "stdout",
     "output_type": "stream",
     "text": [
      "epoch 1\n",
      "-----------------\n",
      "loss: 2.1994504928588867\t[256/175341]\n",
      "loss: 0.0\t[25856/175341]\n",
      "loss: 2.2970962524414062\t[51456/175341]\n",
      "loss: 1.686957597732544\t[77056/175341]\n",
      "loss: 1.879929542541504\t[102656/175341]\n",
      "loss: 0.8921555876731873\t[128256/175341]\n",
      "loss: 0.285339891910553\t[153856/175341]\n"
     ]
    },
    {
     "data": {
      "image/png": "[encoded data removed]",
      "text/plain": [
       "<Figure size 640x480 with 1 Axes>"
      ]
     },
     "metadata": {},
     "output_type": "display_data"
    }
   ],
   "source": [
    "path = './UNSW-NB15/'\n",
    "timestamp = datetime.fromtimestamp(time.time()).strftime('%Y%m%d_%H%M%S_')\n",
    "old_model_name = ''\n",
    "new_model_name = timestamp + 'CNN_model.pth'\n",
    "\n",
    "if old_model_name != '':\n",
    "    CNN_model.load_state_dict(torch.load(old_model_name))\n",
    "else:\n",
    "    losses, iter = train(CNN_model, optimizer, loss_fn, epochs)\n",
    "    torch.save(CNN_model.state_dict(), path + new_model_name)\n",
    "\n",
    "    loss_value_plot(losses, iter)\n",
    "    plt.savefig(path + timestamp + 'CNN_loss.png')"
   ]
  },
  {
   "cell_type": "code",
   "execution_count": 52,
   "metadata": {},
   "outputs": [
    {
     "name": "stdout",
     "output_type": "stream",
     "text": [
      "Accuracy: 0.3472890249234805\n",
      "Average Loss: 3.9691936426553065\n"
     ]
    }
   ],
   "source": [
    "test(CNN_model)"
   ]
  },
  {
   "cell_type": "markdown",
   "metadata": {},
   "source": [
    "## resnet"
   ]
  },
  {
   "cell_type": "code",
   "execution_count": 53,
   "metadata": {},
   "outputs": [
    {
     "data": {
      "text/plain": [
       "Sequential(\n",
       "  (0): Sequential(\n",
       "    (0): Conv1d(1, 64, kernel_size=(7,), stride=(2,), padding=(3,))\n",
       "    (1): BatchNorm1d(64, eps=1e-05, momentum=0.1, affine=True, track_running_stats=True)\n",
       "    (2): ReLU()\n",
       "    (3): MaxPool1d(kernel_size=3, stride=2, padding=1, dilation=1, ceil_mode=False)\n",
       "  )\n",
       "  (1): Sequential(\n",
       "    (0): Residual(\n",
       "      (conv1): Conv1d(64, 64, kernel_size=(3,), stride=(1,), padding=(1,))\n",
       "      (conv2): Conv1d(64, 64, kernel_size=(3,), stride=(1,), padding=(1,))\n",
       "      (bn1): BatchNorm1d(64, eps=1e-05, momentum=0.1, affine=True, track_running_stats=True)\n",
       "      (bn2): BatchNorm1d(64, eps=1e-05, momentum=0.1, affine=True, track_running_stats=True)\n",
       "    )\n",
       "    (1): Residual(\n",
       "      (conv1): Conv1d(64, 64, kernel_size=(3,), stride=(1,), padding=(1,))\n",
       "      (conv2): Conv1d(64, 64, kernel_size=(3,), stride=(1,), padding=(1,))\n",
       "      (bn1): BatchNorm1d(64, eps=1e-05, momentum=0.1, affine=True, track_running_stats=True)\n",
       "      (bn2): BatchNorm1d(64, eps=1e-05, momentum=0.1, affine=True, track_running_stats=True)\n",
       "    )\n",
       "  )\n",
       "  (2): Sequential(\n",
       "    (0): Residual(\n",
       "      (conv1): Conv1d(64, 128, kernel_size=(3,), stride=(2,), padding=(1,))\n",
       "      (conv2): Conv1d(128, 128, kernel_size=(3,), stride=(1,), padding=(1,))\n",
       "      (conv3): Conv1d(64, 128, kernel_size=(1,), stride=(2,))\n",
       "      (bn1): BatchNorm1d(128, eps=1e-05, momentum=0.1, affine=True, track_running_stats=True)\n",
       "      (bn2): BatchNorm1d(128, eps=1e-05, momentum=0.1, affine=True, track_running_stats=True)\n",
       "    )\n",
       "    (1): Residual(\n",
       "      (conv1): Conv1d(128, 128, kernel_size=(3,), stride=(1,), padding=(1,))\n",
       "      (conv2): Conv1d(128, 128, kernel_size=(3,), stride=(1,), padding=(1,))\n",
       "      (bn1): BatchNorm1d(128, eps=1e-05, momentum=0.1, affine=True, track_running_stats=True)\n",
       "      (bn2): BatchNorm1d(128, eps=1e-05, momentum=0.1, affine=True, track_running_stats=True)\n",
       "    )\n",
       "  )\n",
       "  (3): Sequential(\n",
       "    (0): Residual(\n",
       "      (conv1): Conv1d(128, 256, kernel_size=(3,), stride=(2,), padding=(1,))\n",
       "      (conv2): Conv1d(256, 256, kernel_size=(3,), stride=(1,), padding=(1,))\n",
       "      (conv3): Conv1d(128, 256, kernel_size=(1,), stride=(2,))\n",
       "      (bn1): BatchNorm1d(256, eps=1e-05, momentum=0.1, affine=True, track_running_stats=True)\n",
       "      (bn2): BatchNorm1d(256, eps=1e-05, momentum=0.1, affine=True, track_running_stats=True)\n",
       "    )\n",
       "    (1): Residual(\n",
       "      (conv1): Conv1d(256, 256, kernel_size=(3,), stride=(1,), padding=(1,))\n",
       "      (conv2): Conv1d(256, 256, kernel_size=(3,), stride=(1,), padding=(1,))\n",
       "      (bn1): BatchNorm1d(256, eps=1e-05, momentum=0.1, affine=True, track_running_stats=True)\n",
       "      (bn2): BatchNorm1d(256, eps=1e-05, momentum=0.1, affine=True, track_running_stats=True)\n",
       "    )\n",
       "  )\n",
       "  (4): Sequential(\n",
       "    (0): Residual(\n",
       "      (conv1): Conv1d(256, 512, kernel_size=(3,), stride=(2,), padding=(1,))\n",
       "      (conv2): Conv1d(512, 512, kernel_size=(3,), stride=(1,), padding=(1,))\n",
       "      (conv3): Conv1d(256, 512, kernel_size=(1,), stride=(2,))\n",
       "      (bn1): BatchNorm1d(512, eps=1e-05, momentum=0.1, affine=True, track_running_stats=True)\n",
       "      (bn2): BatchNorm1d(512, eps=1e-05, momentum=0.1, affine=True, track_running_stats=True)\n",
       "    )\n",
       "    (1): Residual(\n",
       "      (conv1): Conv1d(512, 512, kernel_size=(3,), stride=(1,), padding=(1,))\n",
       "      (conv2): Conv1d(512, 512, kernel_size=(3,), stride=(1,), padding=(1,))\n",
       "      (bn1): BatchNorm1d(512, eps=1e-05, momentum=0.1, affine=True, track_running_stats=True)\n",
       "      (bn2): BatchNorm1d(512, eps=1e-05, momentum=0.1, affine=True, track_running_stats=True)\n",
       "    )\n",
       "  )\n",
       "  (5): Sequential(\n",
       "    (0): Residual(\n",
       "      (conv1): Conv1d(512, 1024, kernel_size=(3,), stride=(2,), padding=(1,))\n",
       "      (conv2): Conv1d(1024, 1024, kernel_size=(3,), stride=(1,), padding=(1,))\n",
       "      (conv3): Conv1d(512, 1024, kernel_size=(1,), stride=(2,))\n",
       "      (bn1): BatchNorm1d(1024, eps=1e-05, momentum=0.1, affine=True, track_running_stats=True)\n",
       "      (bn2): BatchNorm1d(1024, eps=1e-05, momentum=0.1, affine=True, track_running_stats=True)\n",
       "    )\n",
       "    (1): Residual(\n",
       "      (conv1): Conv1d(1024, 1024, kernel_size=(3,), stride=(1,), padding=(1,))\n",
       "      (conv2): Conv1d(1024, 1024, kernel_size=(3,), stride=(1,), padding=(1,))\n",
       "      (bn1): BatchNorm1d(1024, eps=1e-05, momentum=0.1, affine=True, track_running_stats=True)\n",
       "      (bn2): BatchNorm1d(1024, eps=1e-05, momentum=0.1, affine=True, track_running_stats=True)\n",
       "    )\n",
       "  )\n",
       "  (6): AdaptiveAvgPool1d(output_size=1)\n",
       "  (7): Flatten(start_dim=1, end_dim=-1)\n",
       "  (8): Linear(in_features=1024, out_features=10, bias=True)\n",
       ")"
      ]
     },
     "execution_count": 53,
     "metadata": {},
     "output_type": "execute_result"
    }
   ],
   "source": [
    "class Residual(nn.Module): \n",
    "    def __init__(self, input_channels, num_channels,\n",
    "                 use_1x1conv=False, strides=1):\n",
    "        super().__init__()\n",
    "        self.conv1 = nn.Conv1d(input_channels, num_channels,\n",
    "                               kernel_size=3, padding=1, stride=strides)\n",
    "        self.conv2 = nn.Conv1d(num_channels, num_channels,\n",
    "                               kernel_size=3, padding=1)\n",
    "        if use_1x1conv:\n",
    "            self.conv3 = nn.Conv1d(input_channels, num_channels,\n",
    "                                   kernel_size=1, stride=strides)\n",
    "        else:\n",
    "            self.conv3 = None\n",
    "        self.bn1 = nn.BatchNorm1d(num_channels)\n",
    "        self.bn2 = nn.BatchNorm1d(num_channels)\n",
    "\n",
    "    def forward(self, X):\n",
    "        Y = F.relu(self.bn1(self.conv1(X)))\n",
    "        Y = self.bn2(self.conv2(Y))\n",
    "        if self.conv3:\n",
    "            X = self.conv3(X)\n",
    "        Y += X\n",
    "        return F.relu(Y)\n",
    "\n",
    "def resnet_block(input_channels, num_channels, num_residuals,\n",
    "                 first_block=False):\n",
    "    blk = []\n",
    "    for i in range(num_residuals):\n",
    "        if i == 0 and not first_block:\n",
    "            blk.append(Residual(input_channels, num_channels,\n",
    "                                use_1x1conv=True, strides=2))\n",
    "        else:\n",
    "            blk.append(Residual(num_channels, num_channels))\n",
    "    return blk\n",
    "\n",
    "b1 = nn.Sequential(nn.Conv1d(1, 64, kernel_size=7, stride=2, padding=3),\n",
    "                   nn.BatchNorm1d(64), nn.ReLU(),\n",
    "                   nn.MaxPool1d(kernel_size=3, stride=2, padding=1))\n",
    "b2 = nn.Sequential(*resnet_block(64, 64, 2, first_block=True))\n",
    "b3 = nn.Sequential(*resnet_block(64, 128, 2))\n",
    "b4 = nn.Sequential(*resnet_block(128, 256, 2))\n",
    "b5 = nn.Sequential(*resnet_block(256, 512, 2))\n",
    "b6 = nn.Sequential(*resnet_block(512, 1024, 2))\n",
    "\n",
    "resnet_model = nn.Sequential(b1, b2, b3, b4, b5, b6,\n",
    "                    nn.AdaptiveAvgPool1d((1)),\n",
    "                    nn.Flatten(), nn.Linear(1024, y_dimension))\n",
    "resnet_model.to(device=device)"
   ]
  },
  {
   "cell_type": "code",
   "execution_count": 54,
   "metadata": {},
   "outputs": [
    {
     "name": "stdout",
     "output_type": "stream",
     "text": [
      "Sequential output shape:\t torch.Size([1, 64, 56])\n",
      "Sequential output shape:\t torch.Size([1, 64, 56])\n",
      "Sequential output shape:\t torch.Size([1, 128, 28])\n",
      "Sequential output shape:\t torch.Size([1, 256, 14])\n",
      "Sequential output shape:\t torch.Size([1, 512, 7])\n",
      "Sequential output shape:\t torch.Size([1, 1024, 4])\n",
      "AdaptiveAvgPool1d output shape:\t torch.Size([1, 1024, 1])\n",
      "Flatten output shape:\t torch.Size([1, 1024])\n",
      "Linear output shape:\t torch.Size([1, 10])\n"
     ]
    }
   ],
   "source": [
    "X = torch.rand(size=(1, 1, 224), device = device)\n",
    "for layer in resnet_model:\n",
    "    X = layer(X)\n",
    "    print(layer.__class__.__name__,'output shape:\\t', X.shape)"
   ]
  },
  {
   "cell_type": "code",
   "execution_count": 55,
   "metadata": {},
   "outputs": [],
   "source": [
    "is_trained = False\n",
    "epochs = 1\n",
    "lr = 1e-3 \n",
    "momentum = 0.9\n",
    "optimizer = torch.optim.SGD(resnet_model.parameters(), lr=lr)\n",
    "loss_fn = nn.CrossEntropyLoss()"
   ]
  },
  {
   "cell_type": "code",
   "execution_count": 56,
   "metadata": {},
   "outputs": [
    {
     "name": "stdout",
     "output_type": "stream",
     "text": [
      "epoch 1\n",
      "-----------------\n",
      "loss: 1.6646496057510376\t[256/175341]\n",
      "loss: 0.01058264635503292\t[25856/175341]\n",
      "loss: 1.6842453479766846\t[51456/175341]\n",
      "loss: 1.2153640985488892\t[77056/175341]\n",
      "loss: 0.9863457679748535\t[102656/175341]\n",
      "loss: 0.5725081562995911\t[128256/175341]\n",
      "loss: 0.2292562872171402\t[153856/175341]\n"
     ]
    },
    {
     "data": {
      "image/png": "[encoded data removed]",
      "text/plain": [
       "<Figure size 640x480 with 1 Axes>"
      ]
     },
     "metadata": {},
     "output_type": "display_data"
    }
   ],
   "source": [
    "path = './UNSW-NB15/'\n",
    "timestamp = datetime.fromtimestamp(time.time()).strftime('%Y%m%d_%H%M%S_')\n",
    "old_model_name = ''\n",
    "new_model_name = timestamp + 'resnet_model.pth'\n",
    "\n",
    "if old_model_name != '':\n",
    "    resnet_model.load_state_dict(torch.load(old_model_name))\n",
    "else:\n",
    "    losses, iter = train(resnet_model, optimizer, loss_fn, epochs)\n",
    "    torch.save(resnet_model.state_dict(), path + new_model_name)\n",
    "\n",
    "    loss_value_plot(losses, iter)\n",
    "    plt.savefig(path + timestamp + 'resnet_loss.png')"
   ]
  },
  {
   "cell_type": "code",
   "execution_count": 57,
   "metadata": {},
   "outputs": [
    {
     "name": "stdout",
     "output_type": "stream",
     "text": [
      "Accuracy: 0.27785065345187776\n",
      "Average Loss: 2.761763032479501\n"
     ]
    }
   ],
   "source": [
    "test(resnet_model)"
   ]
  }
 ],
 "metadata": {
  "kernelspec": {
   "display_name": "d2l",
   "language": "python",
   "name": "python3"
  },
  "language_info": {
   "codemirror_mode": {
    "name": "ipython",
    "version": 3
   },
   "file_extension": ".py",
   "mimetype": "text/x-python",
   "name": "python",
   "nbconvert_exporter": "python",
   "pygments_lexer": "ipython3",
   "version": "3.9.18"
  }
 },
 "nbformat": 4,
 "nbformat_minor": 2
}
