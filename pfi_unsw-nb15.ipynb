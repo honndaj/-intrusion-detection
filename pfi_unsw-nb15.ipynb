{
 "cells": [
  {
   "cell_type": "code",
   "execution_count": null,
   "metadata": {},
   "outputs": [],
   "source": [
    "import utils\n",
    "from net.resnet import *\n",
    "import time\n",
    "import pickle\n",
    "from datetime import datetime\n",
    "\n",
    "import torch\n",
    "from torch import nn\n",
    "from torch.utils.data import DataLoader\n",
    "from torch.nn import functional as F\n",
    "\n",
    "import sklearn\n",
    "import pandas as pd\n",
    "import numpy as np\n",
    "import matplotlib.pyplot as plt\n",
    "\n",
    "from sklearn.preprocessing import LabelEncoder"
   ]
  },
  {
   "cell_type": "code",
   "execution_count": null,
   "metadata": {},
   "outputs": [],
   "source": [
    "path = './UNSW-NB15/'\n",
    "df_train = pd.read_csv(path + 'UNSW_NB15_training-set.csv')\n",
    "df_test = pd.read_csv(path + 'UNSW_NB15_testing-set.csv')\n",
    "df = pd.concat([df_train, df_test])\n",
    "df = df.drop(['id', 'label'], axis=1)\n",
    "\n",
    "#区分数值列和非数值列\n",
    "number_col = df.select_dtypes(include=['number']).columns\n",
    "cat_col = df.columns.difference(number_col)\n",
    "cat_col = cat_col.drop('attack_cat')\n",
    "df_cat = df[cat_col].copy()\n",
    "\n",
    "# one-hot编码\n",
    "one_hot_data = pd.get_dummies(df_cat, columns=cat_col)\n",
    "\n",
    "# 将原数据的分类变量去掉\n",
    "one_hot_df = pd.concat([df, one_hot_data],axis=1)\n",
    "one_hot_df.drop(columns=cat_col, inplace=True)\n",
    "\n",
    "\n",
    "normalized_df = utils.normalization(one_hot_df.copy(), number_col)\n",
    "\n",
    "# 为不同的类别进行编码\n",
    "labels = pd.DataFrame(df.attack_cat)\n",
    "label_encoder = LabelEncoder()\n",
    "enc_label = labels.apply(label_encoder.fit_transform)\n",
    "normalized_df.attack_cat = enc_label\n",
    "label_encoder.classes_\n",
    "label_num = len(label_encoder.classes_)\n",
    "\n",
    "#print(enc_label[enc_label['attack_cat'] == 0])\n",
    "\n",
    "data = normalized_df\n",
    "\n",
    "X = data.drop(columns=['attack_cat'])\n",
    "y = data['attack_cat']\n",
    "X_train = X[0:df_train.shape[0]]\n",
    "y_train = y[0:df_train.shape[0]]\n",
    "X_test = X[df_train.shape[0]:]\n",
    "y_test = y[df_train.shape[0]:]\n",
    "\n",
    "    \n",
    "train_data = utils.LoadData(X_train, y_train)\n",
    "test_data = utils.LoadData(X_test, y_test)\n",
    "\n",
    "batch_size = 256\n",
    "\n",
    "device = 'cuda:0' if torch.cuda.is_available() else 'cpu'\n",
    "\n",
    "resnet_model = ResNet(label_num)\n",
    "\n",
    "epochs = 40\n",
    "lr = 1e-4 \n",
    "momentum = 0.9\n",
    "optimizer = torch.optim.Adam(resnet_model.parameters(), lr=lr)\n",
    "loss_fn = nn.CrossEntropyLoss()\n",
    "\n",
    "resnet_model.to(device=device)"
   ]
  },
  {
   "cell_type": "code",
   "execution_count": null,
   "metadata": {},
   "outputs": [],
   "source": [
    "# 未挑选特征时的训练和测试\n",
    "timestamp = datetime.fromtimestamp(time.time()).strftime('%Y%m%d_%H%M%S_')\n",
    "old_model_name = ''\n",
    "new_model_name = timestamp + 'resnet_model.pth'\n",
    "\n",
    "if old_model_name != '':\n",
    "    resnet_model.load_state_dict(torch.load(path + old_model_name))\n",
    "else:\n",
    "    losses, iter = utils.train(train_data, batch_size, device, resnet_model, optimizer, loss_fn, epochs)\n",
    "    torch.save(resnet_model.state_dict(), path + new_model_name)\n",
    "\n",
    "    utils.loss_value_plot(losses, iter)\n",
    "    plt.savefig(path + timestamp + 'resnet_loss.png')\n",
    "\n",
    "#utils.confusion_matrix_per_class_acc(test_data, batch_size, device, resnet_model, label_encoder.classes_)"
   ]
  },
  {
   "cell_type": "code",
   "execution_count": null,
   "metadata": {},
   "outputs": [],
   "source": [
    "utils.test(test_data, batch_size, device, resnet_model, loss_fn)"
   ]
  },
  {
   "cell_type": "code",
   "execution_count": null,
   "metadata": {},
   "outputs": [],
   "source": [
    "# 利用全部特征训练出的模型来挑选特征 permutation feature importance\n",
    "_, loss_ori = utils.test(test_data, batch_size, device, resnet_model, loss_fn)\n",
    "losses = []\n",
    "for i in range(X_test.shape[1]):\n",
    "    X_test_new = X_test\n",
    "    X_test_new.iloc[:,i] = X_test_new.iloc[:,i].sample(frac=1).reset_index(drop=True)\n",
    "    test_data = utils.LoadData(X_test_new, y_test)\n",
    "    _, loss_i = utils.test(test_data, batch_size, device, resnet_model, loss_fn)\n",
    "    losses.append((loss_i - loss_ori, i))\n",
    "    print((loss_i-loss_ori, i))\n",
    "\n",
    "losses.sort(key=lambda x: x[0], reverse=True)\n",
    "print(losses)\n",
    "\n",
    "# 保存列表到文件\n",
    "with open('losses.pkl', 'wb') as file:\n",
    "    pickle.dump(losses, file)"
   ]
  },
  {
   "cell_type": "code",
   "execution_count": null,
   "metadata": {},
   "outputs": [],
   "source": [
    "# 加载持久化的特征重要程度\n",
    "with open('losses.pkl', 'rb') as file:\n",
    "    losses = pickle.load(file)\n",
    "\n",
    "#特征重要性排序图\n",
    "plt.rcParams['font.family'] = 'Microsoft YaHei'\n",
    "plt.bar(range(len(losses)), [x[0] for x in losses])\n",
    "plt.title('Permutation feature importance 排序图')\n",
    "plt.xlabel('特征')\n",
    "plt.ylabel('重要性')\n",
    "plt.xticks(rotation=60)\n",
    "\n",
    "plt.show()\n",
    "\n",
    "# 特征重要性排序\n",
    "k = 50\n",
    "k_index = []\n",
    "for i in range(k):\n",
    "    k_index.append(losses[i][1])\n",
    "\n",
    "#新特征构成的数据集\n",
    "selected_X_train = pd.DataFrame(X_train.iloc[:, k_index])\n",
    "selected_X_test = pd.DataFrame(X_test.iloc[:, k_index])"
   ]
  },
  {
   "cell_type": "code",
   "execution_count": null,
   "metadata": {},
   "outputs": [],
   "source": [
    "# 使用挑选后的特征训练新的模型\n",
    "epochs = 40\n",
    "train_data = utils.LoadData(selected_X_train, y_train) \n",
    "test_data = utils.LoadData(selected_X_test, y_test)\n",
    "\n",
    "losses, iter = utils.train(train_data, batch_size, device, resnet_model, optimizer, loss_fn, epochs)\n",
    "acc, loss_i = utils.test(test_data, batch_size, device, resnet_model, loss_fn)"
   ]
  },
  {
   "cell_type": "code",
   "execution_count": null,
   "metadata": {},
   "outputs": [],
   "source": [
    "utils.test(test_data, batch_size, device, resnet_model, loss_fn)"
   ]
  },
  {
   "cell_type": "code",
   "execution_count": null,
   "metadata": {},
   "outputs": [],
   "source": [
    "utils.confusion_matrix_per_class_acc(test_data, batch_size, device, resnet_model, label_encoder.classes_)"
   ]
  }
 ],
 "metadata": {
  "kernelspec": {
   "display_name": "d2l",
   "language": "python",
   "name": "python3"
  },
  "language_info": {
   "codemirror_mode": {
    "name": "ipython",
    "version": 3
   },
   "file_extension": ".py",
   "mimetype": "text/x-python",
   "name": "python",
   "nbconvert_exporter": "python",
   "pygments_lexer": "ipython3",
   "version": "3.9.18"
  }
 },
 "nbformat": 4,
 "nbformat_minor": 2
}
